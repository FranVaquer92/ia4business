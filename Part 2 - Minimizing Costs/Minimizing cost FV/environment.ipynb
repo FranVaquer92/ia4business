{
 "cells": [
  {
   "cell_type": "markdown",
   "metadata": {},
   "source": [
    "# CASO PRÁCTICO 2 - MINIMIZACIÓN DE COSTES"
   ]
  },
  {
   "cell_type": "markdown",
   "metadata": {},
   "source": [
    "## ENVIROMENT"
   ]
  },
  {
   "cell_type": "code",
   "execution_count": 1,
   "metadata": {},
   "outputs": [],
   "source": [
    "import numpy as np\n",
    "import pandas as pd"
   ]
  },
  {
   "cell_type": "code",
   "execution_count": null,
   "metadata": {},
   "outputs": [],
   "source": [
    "# CREATE A CLASS FOR ENVIRONMENT\n",
    "class Environment(object):\n",
    "    #PARAMETERS AND VARIABLES\n",
    "    def __init__(self, optimal_temperature = (18.0, 24.0), initial_month = 0, initial_number_users = 10, initial_rate_data = 60):\n",
    "        \n",
    "        #genric variables and parameters\n",
    "        \n",
    "        self.optimal_temperature = optimal_temperature\n",
    "        self.initial_month = initial_month\n",
    "        self.initial_number_users = initial_number_users\n",
    "        self.initial_rate_data = initial_rate_data\n",
    "        self.monthly_atmospheric_temperature = [1.0, 5.0, 7.0, 10.0, 11.0, 20.0, 23.0, 24.0, 22.0, 10.0, 5.0, 1.0]\n",
    "        self.atmospheric_temperature = self.monthly_atmospheric_temperature[initial_month]\n",
    "        self.min_temperature = -20\n",
    "        self.max_temperature = 80\n",
    "        self.min_number_users = 10\n",
    "        self.max_number_users = 100\n",
    "        self.max_update_users = 5\n",
    "        self.min_rate_data = 20\n",
    "        self.max_rate_data = 300\n",
    "        self.max_update_data = 10\n",
    "        self.current_number_users = initial_number_users\n",
    "        self.current_rate_data = initial_rate_data\n",
    "        \n",
    "        #specific variables to solve the energetyc problem\n",
    "        \n",
    "        self.intrinsec_temperature = self.atmospheric_temperature + 1.25 * self.current_number_users + 1.25 * self.current_rate_data\n",
    "        self.temperature_ai = self.intrinsec_temperature\n",
    "        self.temperature_noai = (self.optimal_temperature[0]+self.optimal_temperature[1])/2.0\n",
    "        self.total_energy_ai = 0.0\n",
    "        self.total_energy_noai = 0.0\n",
    "        self.reward = 0.0\n",
    "        self.game_over = 0\n",
    "        self.train = 1\n",
    "        \n",
    "    #METHOD TO ACTUALIZE THE ENVIRONMENT AFTER IA EXECUTE THE ACTION\n",
    "    def update_env(self, direction, energy_ai, month):\n",
    "        #OBTAINING REWARD\n",
    "        \n",
    "        #Calculating wasted energy by refrigeration system of server without AI\n",
    "        energy_noai = 0.0\n",
    "        if  self.temperature_noai < self.optimal_temperature[0]:\n",
    "            energy_noai = self.optimal_temperature[0]-self.temperature_noai\n",
    "            self.temperature_noai = self.optimal_temperature[0]\n",
    "        elif self.temperature_noai > self.optimal_temperature[1]:\n",
    "            energy_noai = self.temperature_noai-self.optimal_temperature[1]\n",
    "            self.temperature_noai = self.optimal_temperature[1]\n",
    "        \n",
    "        #Calculating reward\n",
    "        \n",
    "        \n",
    "        #Scaling reward\n",
    "        \n",
    "        #OBTAINING NEXT STATE\n",
    "        \n",
    "        #Actualize atmospheric temperature\n",
    "        \n",
    "        #Actualize number of users\n",
    "        \n",
    "        #Actualize transfer data rate\n",
    "        \n",
    "        #Calculating intrinsec temperature variation\n",
    "        \n",
    "        #Calculating temperature variation caused by AI\n",
    "        \n",
    "        #OBTAINING GAME OVER\n",
    "        \n",
    "        #ACTUALIZE THE SCORES\n",
    "        \n",
    "        #Calculating total wasted energy by AI\n",
    "        \n",
    "        #Calculating total wasted energy by refrigeration system of server without AI\n",
    "        \n",
    "        #SCALING NEXT STATE\n",
    "        \n",
    "        #RETURN NEXT STATE, REWARD AND GAME OVER\n",
    "    \n",
    "    #METHOD TO REINITIALIZE THE ENVIRONMENT\n",
    "    \n",
    "    #METHOD TO OBTAIN IN ANY MOMENT THE STATE, LAST REWARD AND GAME OVER VALUE\n",
    "    "
   ]
  }
 ],
 "metadata": {
  "kernelspec": {
   "display_name": "Python 3",
   "language": "python",
   "name": "python3"
  },
  "language_info": {
   "codemirror_mode": {
    "name": "ipython",
    "version": 3
   },
   "file_extension": ".py",
   "mimetype": "text/x-python",
   "name": "python",
   "nbconvert_exporter": "python",
   "pygments_lexer": "ipython3",
   "version": "3.8.5"
  }
 },
 "nbformat": 4,
 "nbformat_minor": 4
}
