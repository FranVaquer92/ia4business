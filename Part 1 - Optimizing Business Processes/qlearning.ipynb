{
 "cells": [
  {
   "cell_type": "markdown",
   "metadata": {
    "colab_type": "text",
    "id": "ETcU-UCdX2CR"
   },
   "source": [
    "# Inteligencia Artificial Aplicada a Negocios y Empresas\n",
    "# Parte 1 - Optimizacion de los flujos de trabajo en un almacen con Q-Learning\n"
   ]
  },
  {
   "cell_type": "markdown",
   "metadata": {
    "colab_type": "text",
    "id": "-cwBWjRCYAYs"
   },
   "source": [
    "## Importacion de las librerias\n"
   ]
  },
  {
   "cell_type": "code",
   "execution_count": 3,
   "metadata": {
    "colab": {},
    "colab_type": "code",
    "id": "wp02vLlRX8id"
   },
   "outputs": [],
   "source": [
    "import numpy as np"
   ]
  },
  {
   "cell_type": "markdown",
   "metadata": {
    "colab_type": "text",
    "id": "aMd-Oz6kYMrZ"
   },
   "source": [
    "## Configuracion de los parametros gamma y alpha para el algoritmo de Q-Learning\n"
   ]
  },
  {
   "cell_type": "code",
   "execution_count": 4,
   "metadata": {
    "colab": {},
    "colab_type": "code",
    "id": "iLlhMXG4YR02"
   },
   "outputs": [],
   "source": [
    "gamma = 0.75\n",
    "alpha = 0.9"
   ]
  },
  {
   "cell_type": "markdown",
   "metadata": {
    "colab_type": "text",
    "id": "U7EQfwzUYWwO"
   },
   "source": [
    "# PARTE 1 - DEFINICION DEL ENTORNO\n"
   ]
  },
  {
   "cell_type": "markdown",
   "metadata": {
    "colab_type": "text",
    "id": "CLupkEwyYZFp"
   },
   "source": [
    "## Definicion de los estados\n"
   ]
  },
  {
   "cell_type": "code",
   "execution_count": 5,
   "metadata": {
    "colab": {},
    "colab_type": "code",
    "id": "fatEIa4SYbtj"
   },
   "outputs": [],
   "source": [
    "location_to_state = {'A': 0,\n",
    "                     'B': 1,\n",
    "                     'C': 2,\n",
    "                     'D': 3,\n",
    "                     'E': 4,\n",
    "                     'F': 5,\n",
    "                     'G': 6, \n",
    "                     'H': 7, \n",
    "                     'I': 8,\n",
    "                     'J': 9,\n",
    "                     'K': 10,\n",
    "                     'L': 11}"
   ]
  },
  {
   "cell_type": "markdown",
   "metadata": {
    "colab_type": "text",
    "id": "VVGC3vOqYfde"
   },
   "source": [
    "## Definicion de las acciones"
   ]
  },
  {
   "cell_type": "code",
   "execution_count": 6,
   "metadata": {
    "colab": {},
    "colab_type": "code",
    "id": "SDoRZHA1YjIi"
   },
   "outputs": [],
   "source": [
    "actions = [0, 1, 2, 3, 4, 5, 6, 7, 8, 9, 10, 11]"
   ]
  },
  {
   "cell_type": "markdown",
   "metadata": {
    "colab_type": "text",
    "id": "KfTTQ_rpYoQr"
   },
   "source": [
    "## Definicion de las recompensas\n",
    "## Columnas:    A,B,C,D,E,F,G,H,I,J,K,L"
   ]
  },
  {
   "cell_type": "code",
   "execution_count": 7,
   "metadata": {
    "colab": {},
    "colab_type": "code",
    "id": "vt-gj-P-YuI-"
   },
   "outputs": [],
   "source": [
    "R = np.array([[0,1,0,0,0,0,0,0,0,0,0,0], # A\n",
    "              [1,0,1,0,0,1,0,0,0,0,0,0], # B\n",
    "              [0,1,0,0,0,0,1,0,0,0,0,0], # C\n",
    "              [0,0,0,0,0,0,0,1,0,0,0,0], # D\n",
    "              [0,0,0,0,0,0,0,0,1,0,0,0], # E\n",
    "              [0,1,0,0,0,0,0,0,0,1,0,0], # F\n",
    "              [0,0,1,0,0,0,1,1,0,0,0,0], # G\n",
    "              [0,0,0,1,0,0,1,0,0,0,0,1], # H\n",
    "              [0,0,0,0,1,0,0,0,0,1,0,0], # I\n",
    "              [0,0,0,0,0,1,0,0,1,0,1,0], # J\n",
    "              [0,0,0,0,0,0,0,0,0,1,0,1], # K\n",
    "              [0,0,0,0,0,0,0,1,0,0,1,0]])# L"
   ]
  },
  {
   "cell_type": "markdown",
   "metadata": {
    "colab_type": "text",
    "id": "VwM454wTYz3A"
   },
   "source": [
    "# PARTE 2 - CONSTRUCCION DE LA SOLUCION DE IA CON Q-LEARNING\n"
   ]
  },
  {
   "cell_type": "markdown",
   "metadata": {
    "colab_type": "text",
    "id": "3dXSl1flY5IY"
   },
   "source": [
    "## Transformacion inversa de estados a ubicaciones"
   ]
  },
  {
   "cell_type": "code",
   "execution_count": 8,
   "metadata": {
    "colab": {},
    "colab_type": "code",
    "id": "TOdvR6SZY8Gx"
   },
   "outputs": [],
   "source": [
    "state_to_location = {state : location for location, state in location_to_state.items()}"
   ]
  },
  {
   "cell_type": "markdown",
   "metadata": {
    "colab_type": "text",
    "id": "OV9SEnr4ZBGY"
   },
   "source": [
    "## Crear la funcion final que nos devuelva la ruta óptima"
   ]
  },
  {
   "cell_type": "code",
   "execution_count": 9,
   "metadata": {
    "colab": {},
    "colab_type": "code",
    "id": "0UBOEcrYZIUQ"
   },
   "outputs": [],
   "source": [
    "def route(starting_location, ending_location):\n",
    "    R_new = np.copy(R)\n",
    "    ending_state = location_to_state[ending_location]\n",
    "    R_new[ending_state, ending_state] = 1000\n",
    "    \n",
    "    Q = np.array(np.zeros([12, 12]))\n",
    "    for i in range(1000):\n",
    "        current_state = np.random.randint(0, 12)\n",
    "        playable_actions = []\n",
    "        for j in range(12):\n",
    "            if R_new[current_state, j] > 0:\n",
    "                playable_actions.append(j)\n",
    "        next_state = np.random.choice(playable_actions)\n",
    "        TD = R_new[current_state, next_state] + gamma*Q[next_state, np.argmax(Q[next_state,])] - Q[current_state, next_state]\n",
    "        Q[current_state, next_state] = Q[current_state, next_state] + alpha*TD\n",
    "    \n",
    "    route = [starting_location]\n",
    "    next_location = starting_location\n",
    "    while(next_location != ending_location):\n",
    "        starting_state = location_to_state[starting_location]\n",
    "        next_state = np.argmax(Q[starting_state, ])\n",
    "        next_location = state_to_location[next_state]\n",
    "        route.append(next_location)\n",
    "        starting_location = next_location\n",
    "    return route"
   ]
  },
  {
   "cell_type": "markdown",
   "metadata": {
    "colab_type": "text",
    "id": "FsMibrlYZbNu"
   },
   "source": [
    "# PARTE 3 - PONER EL MODELO EN PRODUCCION\n"
   ]
  },
  {
   "cell_type": "code",
   "execution_count": 10,
   "metadata": {
    "colab": {
     "base_uri": "https://localhost:8080/",
     "height": 50
    },
    "colab_type": "code",
    "id": "_S3rDm2TZedT",
    "outputId": "bce233fe-6820-43e3-ad65-b2bd02fbc428"
   },
   "outputs": [
    {
     "name": "stdout",
     "output_type": "stream",
     "text": [
      "Ruta Elegida:\n",
      "['E', 'I', 'J', 'F', 'B', 'C', 'G']\n"
     ]
    }
   ],
   "source": [
    "def best_route(starting_location, intermediary_location, ending_location):\n",
    "    return route(starting_location, intermediary_location) + route(intermediary_location, ending_location)[1:]\n",
    "\n",
    "# Imprimir la ruta final\n",
    "print(\"Ruta Elegida:\")\n",
    "print(best_route('E', 'B', 'G'))"
   ]
  }
 ],
 "metadata": {
  "colab": {
   "collapsed_sections": [],
   "name": "qlearning.ipynb",
   "provenance": []
  },
  "kernelspec": {
   "display_name": "Python 3",
   "language": "python",
   "name": "python3"
  },
  "language_info": {
   "codemirror_mode": {
    "name": "ipython",
    "version": 3
   },
   "file_extension": ".py",
   "mimetype": "text/x-python",
   "name": "python",
   "nbconvert_exporter": "python",
   "pygments_lexer": "ipython3",
   "version": "3.8.5"
  }
 },
 "nbformat": 4,
 "nbformat_minor": 1
}
